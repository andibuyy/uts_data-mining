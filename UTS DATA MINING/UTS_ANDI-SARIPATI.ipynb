{
 "cells": [
  {
   "cell_type": "markdown",
   "id": "cda52d4f",
   "metadata": {},
   "source": [
    "### Soal Tipe Data"
   ]
  },
  {
   "cell_type": "code",
   "execution_count": 10,
   "id": "636e5dab",
   "metadata": {},
   "outputs": [],
   "source": [
    "# data\n",
    "\n",
    "company_name_list = [{'name': 'Company 1'},\n",
    "          {'name': 'Company 2'},\n",
    "          {'name': 'Company 3'}]\n",
    "\n",
    "employee_name_list = [{'name': 'John Doe'},\n",
    "          {'name': 'Tom Smith'},\n",
    "          {'name': 'Andrew Sebastian'}]\n",
    "\n",
    "company_detail_list = {\n",
    "      'Company 1': {\n",
    "          'name': 'Company 1',\n",
    "          'domain': 'Retail',\n",
    "          'clients': [\n",
    "              {\n",
    "                  'name': 'acme.inc',\n",
    "                  'country': 'united states'\n",
    "              },\n",
    "              {\n",
    "                  'name': 'Wayne.co',\n",
    "                  'country': 'united states'\n",
    "              }\n",
    "          ]\n",
    "      },\n",
    "      'Company 2': {\n",
    "          'name': 'Company 2',\n",
    "          'domain': 'Construction',\n",
    "          'clients': [\n",
    "              {\n",
    "                  'name': 'Tesla',\n",
    "                  'country': 'united states'\n",
    "              },\n",
    "              {\n",
    "                  'name': 'Japan Airlines',\n",
    "                  'country': 'japan'\n",
    "              },\n",
    "              {\n",
    "                  'name': 'Indofood',\n",
    "                  'country': 'indonesia'\n",
    "              }\n",
    "          ]\n",
    "      },\n",
    "      'Company 3': {\n",
    "          'name': 'Company 3',\n",
    "          'domain': 'Healthcare',\n",
    "          'clients': [\n",
    "              {\n",
    "                  'name': 'Petronas',\n",
    "                  'country': 'malaysia'\n",
    "              },\n",
    "              {\n",
    "                  'name': 'VW Group',\n",
    "                  'country': 'germany'\n",
    "              },\n",
    "              {\n",
    "                  'name': 'IBM',\n",
    "                  'country': 'united states'\n",
    "              },\n",
    "              {\n",
    "                  'name': 'Mitsubishi',\n",
    "                  'country': 'japan'\n",
    "              }\n",
    "          ]\n",
    "      }\n",
    "  }\n",
    "\n",
    "employee_detail_list = {\n",
    "      'John Doe': {\n",
    "          'name': 'EMP-0001',\n",
    "          'first_name': 'John',\n",
    "          'last_name': 'Doe',\n",
    "          'full_name': 'John Doe',\n",
    "          'company': 'Company 1'\n",
    "      },\n",
    "      'Tom Smith': {\n",
    "          'name': 'EMP-0002',\n",
    "          'first_name': 'Tom',\n",
    "          'last_name': 'Smith',\n",
    "          'full_name': 'Tom Smith',\n",
    "          'company': 'Company 2'\n",
    "      },\n",
    "      'Andrew Sebastian': {\n",
    "          'name': 'EMP-0003',\n",
    "          'first_name': 'Andrew',\n",
    "          'last_name': 'Sebastian',\n",
    "          'full_name': 'Andrew Sebastian',\n",
    "          'company': 'Company 2'\n",
    "      },\n",
    "  }"
   ]
  },
  {
   "cell_type": "markdown",
   "id": "e018570b",
   "metadata": {},
   "source": [
    "#### Petunjuk:\n",
    "Dari data di atas kerjakan soal di bawah untuk nomor **1 - 4**, sebisa mungkin gunakan comprehension loop apabila ada perulangan:"
   ]
  },
  {
   "cell_type": "markdown",
   "id": "6033790d",
   "metadata": {},
   "source": [
    "### 1 \n",
    "Please get the list of all Companies and sort by **Company Domain** in reverse order.\n",
    "\n",
    "Expected result:\n",
    "\n",
    "\n",
    "```json\n",
    "[{\n",
    "    \"name\": \"Company 1\", \n",
    "    \"domain\": \"Retail\"\n",
    "}, {\n",
    "    \"name\": \"Company 3\", \n",
    "    \"domain\": \"Healthcare\"\n",
    "}, {\n",
    "    \"name\": \"Company 2\", \n",
    "    \"domain\": \"Construction\"\n",
    "}]\n",
    "```"
   ]
  },
  {
   "cell_type": "code",
   "execution_count": 49,
   "id": "0e6fdb51",
   "metadata": {},
   "outputs": [
    {
     "name": "stdout",
     "output_type": "stream",
     "text": [
      "[{'name': 'Company 1', 'domain': 'Retail'}, {'name': 'Company 3', 'domain': 'Healthcare'}, {'name': 'Company 2', 'domain': 'Construction'}]\n"
     ]
    }
   ],
   "source": [
    "def sort_company(company_detail_list):\n",
    " \n",
    "  # Extract company names and domains with dictionary comprehension\n",
    "  companies = [{'name': name, 'domain': details['domain']} \n",
    "              for name, details in company_detail_list.items()]\n",
    "\n",
    "  # Sort by domain (reverse order)\n",
    "  sorted_companies = sorted(companies, key=lambda x: x['domain'], reverse=True)\n",
    "  return sorted_companies\n",
    "\n",
    "# Example usage\n",
    "sorted_company_list = sort_company(company_detail_list)\n",
    "print(sorted_company_list)\n"
   ]
  },
  {
   "cell_type": "markdown",
   "id": "2eb10341",
   "metadata": {},
   "source": [
    "### 2\n",
    "Please print all Domain value in every company.\n",
    "\n",
    "Expected return:\n",
    "\n",
    "```\n",
    "Company 1: Retail, relation: 2 clients\n",
    "Company 2: Construction, relation: 3 clients\n",
    "Company 3: Healthcare, relation: 4 clients\n",
    "```"
   ]
  },
  {
   "cell_type": "code",
   "execution_count": 50,
   "id": "a4acd65a",
   "metadata": {},
   "outputs": [
    {
     "name": "stdout",
     "output_type": "stream",
     "text": [
      "Company Company 1: Retail, relation: 2 clients\n",
      "Company Company 2: Construction, relation: 3 clients\n",
      "Company Company 3: Healthcare, relation: 4 clients\n"
     ]
    }
   ],
   "source": [
    "def print_company_details(company_detail_list):\n",
    "\n",
    "  for company_name, details in company_detail_list.items():\n",
    "    domain = details[\"domain\"]\n",
    "    num_clients = len(details[\"clients\"])\n",
    "    print(f\"Company {company_name}: {domain}, relation: {num_clients} clients\")\n",
    "\n",
    "# Example usage\n",
    "print_company_details(company_detail_list)\n"
   ]
  },
  {
   "cell_type": "markdown",
   "id": "eec62329",
   "metadata": {},
   "source": [
    "### 3\n",
    "Create a function that return employees with it's company domain.\n",
    "\n",
    "Expected return:\n",
    "\n",
    "\n",
    "```json\n",
    "[{\n",
    "    \"full_name\": \"John Doe\",\n",
    "    \"company\": \"Company 1\",\n",
    "    \"domain\": \"Retail\"\n",
    "}, {\n",
    "    \"full_name\": \"Tom Smith\",\n",
    "    \"company\": \"Company 2\",\n",
    "    \"domain\": \"Construction\"\n",
    "}, {\n",
    "    \"full_name\": \"Andrew Sebastian\",\n",
    "    \"company\": \"Company 2\",\n",
    "    \"domain\": \"Construction\"\n",
    "}]\n",
    "```"
   ]
  },
  {
   "cell_type": "code",
   "execution_count": 51,
   "id": "ac7115d8",
   "metadata": {},
   "outputs": [
    {
     "name": "stdout",
     "output_type": "stream",
     "text": [
      "[{'full_name': 'John Doe', 'company': 'Company 1', 'domain': 'Retail'}, {'full_name': 'Tom Smith', 'company': 'Company 2', 'domain': 'Construction'}, {'full_name': 'Andrew Sebastian', 'company': 'Company 2', 'domain': 'Construction'}]\n"
     ]
    }
   ],
   "source": [
    "def get_employee_details_with_domain(company_detail_list, employee_detail_list):\n",
    " \n",
    "  # Initialize empty list for results\n",
    "  employee_data = []\n",
    "\n",
    "  # Loop through employee details\n",
    "  for employee_name, employee_info in employee_detail_list.items():\n",
    "    # Get company name for the employee\n",
    "    company_name = employee_info[\"company\"]\n",
    "\n",
    "    # Check if company exists in company_detail_list (avoid potential errors)\n",
    "    if company_name in company_detail_list:\n",
    "      # Get domain from company details\n",
    "      domain = company_detail_list[company_name][\"domain\"]\n",
    "\n",
    "      # Create a dictionary for employee data\n",
    "      employee_data.append({\n",
    "          \"full_name\": employee_name,\n",
    "          \"company\": company_name,\n",
    "          \"domain\": domain\n",
    "      })\n",
    "\n",
    "  return employee_data\n",
    "\n",
    "# Example usage\n",
    "employee_data = get_employee_details_with_domain(company_detail_list, employee_detail_list)\n",
    "print(employee_data)\n"
   ]
  },
  {
   "cell_type": "markdown",
   "id": "d16fbc2a",
   "metadata": {},
   "source": [
    "### 4\n",
    "Create a function that return companies with list of employees that are working in the company.\n",
    "\n",
    "Expected return:\n",
    "\n",
    "\n",
    "```json\n",
    "[{\n",
    "    \"company\": \"Company 1\",\n",
    "    \"employees\": [\"John Doe\"]\n",
    "}, {\n",
    "    \"company\": \"Company 2\",\n",
    "    \"employees\": [\"Tom Smith\", \"Andrew Sebastian\"]\n",
    "}, {\n",
    "    \"company\": \"Company 3\",\n",
    "    \"employees\": []\n",
    "}]\n",
    "```"
   ]
  },
  {
   "cell_type": "code",
   "execution_count": 52,
   "id": "6bff2ae9",
   "metadata": {},
   "outputs": [
    {
     "name": "stdout",
     "output_type": "stream",
     "text": [
      "[{'company': 'Company 1', 'employees': ['John Doe']}, {'company': 'Company 2', 'employees': ['Tom Smith', 'Andrew Sebastian']}, {'company': 'Company 3', 'employees': []}]\n"
     ]
    }
   ],
   "source": [
    "def get_company_employee_list(company_detail_list, employee_detail_list):\n",
    "\n",
    "  # Initialize empty list for results\n",
    "  company_data = []\n",
    "\n",
    "  # Loop through companies\n",
    "  for company_name, company_details in company_detail_list.items():\n",
    "    # Initialize empty list for employees in this company\n",
    "    employees = []\n",
    "\n",
    "    # Loop through employees\n",
    "    for employee_name, employee_info in employee_detail_list.items():\n",
    "      # Check if employee works in this company\n",
    "      if employee_info[\"company\"] == company_name:\n",
    "        employees.append(employee_name)\n",
    "\n",
    "    # Create dictionary with company name and employee list\n",
    "    company_data.append({\n",
    "        \"company\": company_name,\n",
    "        \"employees\": employees\n",
    "    })\n",
    "\n",
    "  return company_data\n",
    "\n",
    "# Example usage\n",
    "company_data = get_company_employee_list(company_detail_list, employee_detail_list)\n",
    "print(company_data)\n"
   ]
  },
  {
   "cell_type": "markdown",
   "id": "7b27ffc4",
   "metadata": {},
   "source": [
    "### Soal pre-processing data"
   ]
  },
  {
   "cell_type": "code",
   "execution_count": 16,
   "id": "053e86c2",
   "metadata": {},
   "outputs": [],
   "source": [
    "import pandas as pd"
   ]
  },
  {
   "cell_type": "code",
   "execution_count": 17,
   "id": "97aabf99",
   "metadata": {},
   "outputs": [],
   "source": [
    "data_startup = pd.read_csv('50_Startups.csv')"
   ]
  },
  {
   "cell_type": "code",
   "execution_count": 57,
   "id": "4d7b5cda",
   "metadata": {},
   "outputs": [
    {
     "data": {
      "text/html": [
       "<div>\n",
       "<style scoped>\n",
       "    .dataframe tbody tr th:only-of-type {\n",
       "        vertical-align: middle;\n",
       "    }\n",
       "\n",
       "    .dataframe tbody tr th {\n",
       "        vertical-align: top;\n",
       "    }\n",
       "\n",
       "    .dataframe thead th {\n",
       "        text-align: right;\n",
       "    }\n",
       "</style>\n",
       "<table border=\"1\" class=\"dataframe\">\n",
       "  <thead>\n",
       "    <tr style=\"text-align: right;\">\n",
       "      <th></th>\n",
       "      <th>R&amp;D Spend</th>\n",
       "      <th>Administration</th>\n",
       "      <th>Marketing Spend</th>\n",
       "      <th>State</th>\n",
       "      <th>Profit</th>\n",
       "    </tr>\n",
       "  </thead>\n",
       "  <tbody>\n",
       "    <tr>\n",
       "      <th>20</th>\n",
       "      <td>76253.86</td>\n",
       "      <td>113867.30</td>\n",
       "      <td>298664.47</td>\n",
       "      <td>California</td>\n",
       "      <td>118474.03</td>\n",
       "    </tr>\n",
       "    <tr>\n",
       "      <th>12</th>\n",
       "      <td>93863.75</td>\n",
       "      <td>127320.38</td>\n",
       "      <td>249839.44</td>\n",
       "      <td>Florida</td>\n",
       "      <td>141585.52</td>\n",
       "    </tr>\n",
       "    <tr>\n",
       "      <th>28</th>\n",
       "      <td>66051.52</td>\n",
       "      <td>182645.56</td>\n",
       "      <td>118148.20</td>\n",
       "      <td>Florida</td>\n",
       "      <td>103282.38</td>\n",
       "    </tr>\n",
       "    <tr>\n",
       "      <th>49</th>\n",
       "      <td>NaN</td>\n",
       "      <td>116983.80</td>\n",
       "      <td>45173.06</td>\n",
       "      <td>California</td>\n",
       "      <td>14681.40</td>\n",
       "    </tr>\n",
       "    <tr>\n",
       "      <th>39</th>\n",
       "      <td>38558.51</td>\n",
       "      <td>82982.09</td>\n",
       "      <td>174999.30</td>\n",
       "      <td>California</td>\n",
       "      <td>81005.76</td>\n",
       "    </tr>\n",
       "    <tr>\n",
       "      <th>45</th>\n",
       "      <td>1000.23</td>\n",
       "      <td>124153.04</td>\n",
       "      <td>1903.93</td>\n",
       "      <td>New York</td>\n",
       "      <td>64926.08</td>\n",
       "    </tr>\n",
       "    <tr>\n",
       "      <th>41</th>\n",
       "      <td>27892.92</td>\n",
       "      <td>84710.77</td>\n",
       "      <td>164470.71</td>\n",
       "      <td>Florida</td>\n",
       "      <td>77798.83</td>\n",
       "    </tr>\n",
       "  </tbody>\n",
       "</table>\n",
       "</div>"
      ],
      "text/plain": [
       "    R&D Spend  Administration  Marketing Spend       State     Profit\n",
       "20   76253.86       113867.30        298664.47  California  118474.03\n",
       "12   93863.75       127320.38        249839.44     Florida  141585.52\n",
       "28   66051.52       182645.56        118148.20     Florida  103282.38\n",
       "49        NaN       116983.80         45173.06  California   14681.40\n",
       "39   38558.51        82982.09        174999.30  California   81005.76\n",
       "45    1000.23       124153.04          1903.93    New York   64926.08\n",
       "41   27892.92        84710.77        164470.71     Florida   77798.83"
      ]
     },
     "execution_count": 57,
     "metadata": {},
     "output_type": "execute_result"
    }
   ],
   "source": [
    "data_startup.sample(7)"
   ]
  },
  {
   "cell_type": "markdown",
   "id": "edd9b66b",
   "metadata": {
    "jp-MarkdownHeadingCollapsed": true
   },
   "source": [
    "### Soal\n",
    "Dari data di atas lakukan pre-processing sbb:\n",
    "1. Lakukan analisa mengenai field mana saja yang memiliki data kosong(Nan) lalu Isi data yang kosong tersebut menggunakan nilai mean\n",
    "2. lakukan oneHotEncoder ke field state\n",
    "3. buat field baru yaitu Tax. dimana Tax = (profit + Marketing Spend + administration) * 5%\n",
    "4. Jalankan standardScaler field-field tersebut"
   ]
  },
  {
   "cell_type": "markdown",
   "id": "81e1e6de-fed0-4533-952f-d435dce9709f",
   "metadata": {},
   "source": [
    "### 1. ANALISA"
   ]
  },
  {
   "cell_type": "code",
   "execution_count": 74,
   "id": "5285e1fa-73e9-42f4-8ff0-0559f1a21720",
   "metadata": {},
   "outputs": [
    {
     "data": {
      "text/plain": [
       "R&D Spend          5\n",
       "Administration     3\n",
       "Marketing Spend    5\n",
       "State              0\n",
       "Profit             2\n",
       "dtype: int64"
      ]
     },
     "execution_count": 74,
     "metadata": {},
     "output_type": "execute_result"
    }
   ],
   "source": [
    "data_startup.isnull().sum()"
   ]
  },
  {
   "cell_type": "code",
   "execution_count": 79,
   "id": "01f03f0e-d834-44ee-89ac-d382375bddb6",
   "metadata": {},
   "outputs": [
    {
     "data": {
      "text/plain": [
       "R&D Spend          0\n",
       "Administration     0\n",
       "Marketing Spend    0\n",
       "State              0\n",
       "Profit             0\n",
       "dtype: int64"
      ]
     },
     "execution_count": 79,
     "metadata": {},
     "output_type": "execute_result"
    }
   ],
   "source": [
    "rndmean = data_startup['R&D Spend'].mean()\n",
    "admmean = data_startup['Administration'].mean()\n",
    "msdmean = data_startup['Marketing Spend'].mean()\n",
    "pmean = data_startup['Profit'].mean()\n",
    "\n",
    "data_startup['R&D Spend'] = data_startup['R&D Spend'].fillna(rndmean)\n",
    "data_startup['Administration'] = data_startup['Administration'].fillna(admmean)\n",
    "data_startup['Marketing Spend'] = data_startup['Marketing Spend'].fillna(msdmean)\n",
    "data_startup['Profit'] = data_startup['Profit'].fillna(pmean)\n",
    "data_startup.isnull().sum()"
   ]
  },
  {
   "cell_type": "markdown",
   "id": "79c1864f-d338-4704-b769-c0402a5412a7",
   "metadata": {},
   "source": [
    "## 2. oneHotEncoder"
   ]
  },
  {
   "cell_type": "code",
   "execution_count": 81,
   "id": "81b7a675-bffc-459f-88d1-22dba3b3fdad",
   "metadata": {},
   "outputs": [],
   "source": [
    "from sklearn.preprocessing import StandardScaler, OneHotEncoder"
   ]
  },
  {
   "cell_type": "code",
   "execution_count": 87,
   "id": "0056ef24-1daf-4177-bc71-d66618aeabe9",
   "metadata": {},
   "outputs": [
    {
     "data": {
      "text/html": [
       "<style>#sk-container-id-1 {color: black;background-color: white;}#sk-container-id-1 pre{padding: 0;}#sk-container-id-1 div.sk-toggleable {background-color: white;}#sk-container-id-1 label.sk-toggleable__label {cursor: pointer;display: block;width: 100%;margin-bottom: 0;padding: 0.3em;box-sizing: border-box;text-align: center;}#sk-container-id-1 label.sk-toggleable__label-arrow:before {content: \"▸\";float: left;margin-right: 0.25em;color: #696969;}#sk-container-id-1 label.sk-toggleable__label-arrow:hover:before {color: black;}#sk-container-id-1 div.sk-estimator:hover label.sk-toggleable__label-arrow:before {color: black;}#sk-container-id-1 div.sk-toggleable__content {max-height: 0;max-width: 0;overflow: hidden;text-align: left;background-color: #f0f8ff;}#sk-container-id-1 div.sk-toggleable__content pre {margin: 0.2em;color: black;border-radius: 0.25em;background-color: #f0f8ff;}#sk-container-id-1 input.sk-toggleable__control:checked~div.sk-toggleable__content {max-height: 200px;max-width: 100%;overflow: auto;}#sk-container-id-1 input.sk-toggleable__control:checked~label.sk-toggleable__label-arrow:before {content: \"▾\";}#sk-container-id-1 div.sk-estimator input.sk-toggleable__control:checked~label.sk-toggleable__label {background-color: #d4ebff;}#sk-container-id-1 div.sk-label input.sk-toggleable__control:checked~label.sk-toggleable__label {background-color: #d4ebff;}#sk-container-id-1 input.sk-hidden--visually {border: 0;clip: rect(1px 1px 1px 1px);clip: rect(1px, 1px, 1px, 1px);height: 1px;margin: -1px;overflow: hidden;padding: 0;position: absolute;width: 1px;}#sk-container-id-1 div.sk-estimator {font-family: monospace;background-color: #f0f8ff;border: 1px dotted black;border-radius: 0.25em;box-sizing: border-box;margin-bottom: 0.5em;}#sk-container-id-1 div.sk-estimator:hover {background-color: #d4ebff;}#sk-container-id-1 div.sk-parallel-item::after {content: \"\";width: 100%;border-bottom: 1px solid gray;flex-grow: 1;}#sk-container-id-1 div.sk-label:hover label.sk-toggleable__label {background-color: #d4ebff;}#sk-container-id-1 div.sk-serial::before {content: \"\";position: absolute;border-left: 1px solid gray;box-sizing: border-box;top: 0;bottom: 0;left: 50%;z-index: 0;}#sk-container-id-1 div.sk-serial {display: flex;flex-direction: column;align-items: center;background-color: white;padding-right: 0.2em;padding-left: 0.2em;position: relative;}#sk-container-id-1 div.sk-item {position: relative;z-index: 1;}#sk-container-id-1 div.sk-parallel {display: flex;align-items: stretch;justify-content: center;background-color: white;position: relative;}#sk-container-id-1 div.sk-item::before, #sk-container-id-1 div.sk-parallel-item::before {content: \"\";position: absolute;border-left: 1px solid gray;box-sizing: border-box;top: 0;bottom: 0;left: 50%;z-index: -1;}#sk-container-id-1 div.sk-parallel-item {display: flex;flex-direction: column;z-index: 1;position: relative;background-color: white;}#sk-container-id-1 div.sk-parallel-item:first-child::after {align-self: flex-end;width: 50%;}#sk-container-id-1 div.sk-parallel-item:last-child::after {align-self: flex-start;width: 50%;}#sk-container-id-1 div.sk-parallel-item:only-child::after {width: 0;}#sk-container-id-1 div.sk-dashed-wrapped {border: 1px dashed gray;margin: 0 0.4em 0.5em 0.4em;box-sizing: border-box;padding-bottom: 0.4em;background-color: white;}#sk-container-id-1 div.sk-label label {font-family: monospace;font-weight: bold;display: inline-block;line-height: 1.2em;}#sk-container-id-1 div.sk-label-container {text-align: center;}#sk-container-id-1 div.sk-container {/* jupyter's `normalize.less` sets `[hidden] { display: none; }` but bootstrap.min.css set `[hidden] { display: none !important; }` so we also need the `!important` here to be able to override the default hidden behavior on the sphinx rendered scikit-learn.org. See: https://github.com/scikit-learn/scikit-learn/issues/21755 */display: inline-block !important;position: relative;}#sk-container-id-1 div.sk-text-repr-fallback {display: none;}</style><div id=\"sk-container-id-1\" class=\"sk-top-container\"><div class=\"sk-text-repr-fallback\"><pre>OneHotEncoder()</pre><b>In a Jupyter environment, please rerun this cell to show the HTML representation or trust the notebook. <br />On GitHub, the HTML representation is unable to render, please try loading this page with nbviewer.org.</b></div><div class=\"sk-container\" hidden><div class=\"sk-item\"><div class=\"sk-estimator sk-toggleable\"><input class=\"sk-toggleable__control sk-hidden--visually\" id=\"sk-estimator-id-1\" type=\"checkbox\" checked><label for=\"sk-estimator-id-1\" class=\"sk-toggleable__label sk-toggleable__label-arrow\">OneHotEncoder</label><div class=\"sk-toggleable__content\"><pre>OneHotEncoder()</pre></div></div></div></div></div>"
      ],
      "text/plain": [
       "OneHotEncoder()"
      ]
     },
     "execution_count": 87,
     "metadata": {},
     "output_type": "execute_result"
    }
   ],
   "source": [
    "col_cat = ['State']\n",
    "col_num = ['R&D Spend','Administration','Marketing Spend','Profit']\n",
    "onehot=OneHotEncoder()\n",
    "onehot.fit(data_startup[col_cat])"
   ]
  },
  {
   "cell_type": "markdown",
   "id": "e2fc3a8e-bc8c-44b6-ba1c-e6bdd781dfac",
   "metadata": {},
   "source": [
    "## 3. NEW FIELD"
   ]
  },
  {
   "cell_type": "code",
   "execution_count": 90,
   "id": "d9619dea-8070-42f5-8771-b020be2403bf",
   "metadata": {
    "scrolled": true
   },
   "outputs": [
    {
     "data": {
      "text/html": [
       "<div>\n",
       "<style scoped>\n",
       "    .dataframe tbody tr th:only-of-type {\n",
       "        vertical-align: middle;\n",
       "    }\n",
       "\n",
       "    .dataframe tbody tr th {\n",
       "        vertical-align: top;\n",
       "    }\n",
       "\n",
       "    .dataframe thead th {\n",
       "        text-align: right;\n",
       "    }\n",
       "</style>\n",
       "<table border=\"1\" class=\"dataframe\">\n",
       "  <thead>\n",
       "    <tr style=\"text-align: right;\">\n",
       "      <th></th>\n",
       "      <th>R&amp;D Spend</th>\n",
       "      <th>Administration</th>\n",
       "      <th>Marketing Spend</th>\n",
       "      <th>State</th>\n",
       "      <th>Profit</th>\n",
       "      <th>Tax</th>\n",
       "    </tr>\n",
       "  </thead>\n",
       "  <tbody>\n",
       "    <tr>\n",
       "      <th>36</th>\n",
       "      <td>28663.76</td>\n",
       "      <td>127056.21</td>\n",
       "      <td>201126.82</td>\n",
       "      <td>Florida</td>\n",
       "      <td>90708.19</td>\n",
       "      <td>20944.5610</td>\n",
       "    </tr>\n",
       "    <tr>\n",
       "      <th>41</th>\n",
       "      <td>27892.92</td>\n",
       "      <td>84710.77</td>\n",
       "      <td>164470.71</td>\n",
       "      <td>Florida</td>\n",
       "      <td>77798.83</td>\n",
       "      <td>16349.0155</td>\n",
       "    </tr>\n",
       "    <tr>\n",
       "      <th>0</th>\n",
       "      <td>165349.20</td>\n",
       "      <td>136897.80</td>\n",
       "      <td>471784.10</td>\n",
       "      <td>New York</td>\n",
       "      <td>192261.83</td>\n",
       "      <td>40047.1865</td>\n",
       "    </tr>\n",
       "    <tr>\n",
       "      <th>16</th>\n",
       "      <td>78013.11</td>\n",
       "      <td>121597.55</td>\n",
       "      <td>264346.06</td>\n",
       "      <td>California</td>\n",
       "      <td>126992.93</td>\n",
       "      <td>25646.8270</td>\n",
       "    </tr>\n",
       "    <tr>\n",
       "      <th>2</th>\n",
       "      <td>153441.51</td>\n",
       "      <td>101145.55</td>\n",
       "      <td>407934.54</td>\n",
       "      <td>Florida</td>\n",
       "      <td>191050.39</td>\n",
       "      <td>35006.5240</td>\n",
       "    </tr>\n",
       "    <tr>\n",
       "      <th>46</th>\n",
       "      <td>1315.46</td>\n",
       "      <td>115816.21</td>\n",
       "      <td>297114.46</td>\n",
       "      <td>Florida</td>\n",
       "      <td>49490.75</td>\n",
       "      <td>23121.0710</td>\n",
       "    </tr>\n",
       "    <tr>\n",
       "      <th>40</th>\n",
       "      <td>28754.33</td>\n",
       "      <td>118546.05</td>\n",
       "      <td>172795.67</td>\n",
       "      <td>California</td>\n",
       "      <td>78239.91</td>\n",
       "      <td>18479.0815</td>\n",
       "    </tr>\n",
       "  </tbody>\n",
       "</table>\n",
       "</div>"
      ],
      "text/plain": [
       "    R&D Spend  Administration  Marketing Spend       State     Profit  \\\n",
       "36   28663.76       127056.21        201126.82     Florida   90708.19   \n",
       "41   27892.92        84710.77        164470.71     Florida   77798.83   \n",
       "0   165349.20       136897.80        471784.10    New York  192261.83   \n",
       "16   78013.11       121597.55        264346.06  California  126992.93   \n",
       "2   153441.51       101145.55        407934.54     Florida  191050.39   \n",
       "46    1315.46       115816.21        297114.46     Florida   49490.75   \n",
       "40   28754.33       118546.05        172795.67  California   78239.91   \n",
       "\n",
       "           Tax  \n",
       "36  20944.5610  \n",
       "41  16349.0155  \n",
       "0   40047.1865  \n",
       "16  25646.8270  \n",
       "2   35006.5240  \n",
       "46  23121.0710  \n",
       "40  18479.0815  "
      ]
     },
     "execution_count": 90,
     "metadata": {},
     "output_type": "execute_result"
    }
   ],
   "source": [
    "data_startup['Tax'] = (data_startup['Profit'] + data_startup['Marketing Spend'] + data_startup['Administration'] ) * 0.05\n",
    "data_startup.sample(7)"
   ]
  },
  {
   "cell_type": "markdown",
   "id": "282dbf5f-f774-4973-9287-b9a08cc8983e",
   "metadata": {},
   "source": [
    "## 4. standardScaler"
   ]
  },
  {
   "cell_type": "code",
   "execution_count": 95,
   "id": "14cebfaa-ee12-463b-9d2a-51f644a5c398",
   "metadata": {},
   "outputs": [
    {
     "data": {
      "text/html": [
       "<div>\n",
       "<style scoped>\n",
       "    .dataframe tbody tr th:only-of-type {\n",
       "        vertical-align: middle;\n",
       "    }\n",
       "\n",
       "    .dataframe tbody tr th {\n",
       "        vertical-align: top;\n",
       "    }\n",
       "\n",
       "    .dataframe thead th {\n",
       "        text-align: right;\n",
       "    }\n",
       "</style>\n",
       "<table border=\"1\" class=\"dataframe\">\n",
       "  <thead>\n",
       "    <tr style=\"text-align: right;\">\n",
       "      <th></th>\n",
       "      <th>R&amp;D Spend</th>\n",
       "      <th>Administration</th>\n",
       "      <th>Marketing Spend</th>\n",
       "      <th>State</th>\n",
       "      <th>Profit</th>\n",
       "      <th>Tax</th>\n",
       "      <th>R&amp;D Spend_SS</th>\n",
       "      <th>Administration_SS</th>\n",
       "      <th>Marketing Spend_SS</th>\n",
       "      <th>Profit_SS</th>\n",
       "      <th>Tax_SS</th>\n",
       "    </tr>\n",
       "  </thead>\n",
       "  <tbody>\n",
       "    <tr>\n",
       "      <th>21</th>\n",
       "      <td>78389.47</td>\n",
       "      <td>153773.43</td>\n",
       "      <td>299737.290000</td>\n",
       "      <td>New York</td>\n",
       "      <td>111313.02</td>\n",
       "      <td>28241.187000</td>\n",
       "      <td>0.037527</td>\n",
       "      <td>1.217395</td>\n",
       "      <td>0.705469</td>\n",
       "      <td>-0.013540</td>\n",
       "      <td>0.765456</td>\n",
       "    </tr>\n",
       "    <tr>\n",
       "      <th>11</th>\n",
       "      <td>100671.96</td>\n",
       "      <td>91790.61</td>\n",
       "      <td>249744.550000</td>\n",
       "      <td>California</td>\n",
       "      <td>144259.40</td>\n",
       "      <td>24289.728000</td>\n",
       "      <td>0.559954</td>\n",
       "      <td>-1.218034</td>\n",
       "      <td>0.242354</td>\n",
       "      <td>0.815866</td>\n",
       "      <td>0.197976</td>\n",
       "    </tr>\n",
       "    <tr>\n",
       "      <th>40</th>\n",
       "      <td>28754.33</td>\n",
       "      <td>118546.05</td>\n",
       "      <td>172795.670000</td>\n",
       "      <td>California</td>\n",
       "      <td>78239.91</td>\n",
       "      <td>18479.081500</td>\n",
       "      <td>-1.126199</td>\n",
       "      <td>-0.166760</td>\n",
       "      <td>-0.470473</td>\n",
       "      <td>-0.846135</td>\n",
       "      <td>-0.636506</td>\n",
       "    </tr>\n",
       "    <tr>\n",
       "      <th>32</th>\n",
       "      <td>63408.86</td>\n",
       "      <td>129219.61</td>\n",
       "      <td>46085.250000</td>\n",
       "      <td>California</td>\n",
       "      <td>97427.84</td>\n",
       "      <td>13636.635000</td>\n",
       "      <td>-0.313702</td>\n",
       "      <td>0.252626</td>\n",
       "      <td>-1.644272</td>\n",
       "      <td>-0.363091</td>\n",
       "      <td>-1.331942</td>\n",
       "    </tr>\n",
       "    <tr>\n",
       "      <th>33</th>\n",
       "      <td>55493.95</td>\n",
       "      <td>103057.49</td>\n",
       "      <td>214634.810000</td>\n",
       "      <td>Florida</td>\n",
       "      <td>96778.92</td>\n",
       "      <td>20723.561000</td>\n",
       "      <td>-0.499272</td>\n",
       "      <td>-0.775336</td>\n",
       "      <td>-0.082890</td>\n",
       "      <td>-0.379427</td>\n",
       "      <td>-0.314170</td>\n",
       "    </tr>\n",
       "    <tr>\n",
       "      <th>42</th>\n",
       "      <td>23640.93</td>\n",
       "      <td>96189.63</td>\n",
       "      <td>148001.110000</td>\n",
       "      <td>California</td>\n",
       "      <td>71498.49</td>\n",
       "      <td>15784.461500</td>\n",
       "      <td>-1.246086</td>\n",
       "      <td>-1.045188</td>\n",
       "      <td>-0.700160</td>\n",
       "      <td>-1.015847</td>\n",
       "      <td>-1.023487</td>\n",
       "    </tr>\n",
       "    <tr>\n",
       "      <th>48</th>\n",
       "      <td>542.05</td>\n",
       "      <td>51743.15</td>\n",
       "      <td>223582.690222</td>\n",
       "      <td>New York</td>\n",
       "      <td>35673.41</td>\n",
       "      <td>15549.962511</td>\n",
       "      <td>-1.787653</td>\n",
       "      <td>-2.791579</td>\n",
       "      <td>0.000000</td>\n",
       "      <td>-1.917721</td>\n",
       "      <td>-1.057165</td>\n",
       "    </tr>\n",
       "  </tbody>\n",
       "</table>\n",
       "</div>"
      ],
      "text/plain": [
       "    R&D Spend  Administration  Marketing Spend       State     Profit  \\\n",
       "21   78389.47       153773.43    299737.290000    New York  111313.02   \n",
       "11  100671.96        91790.61    249744.550000  California  144259.40   \n",
       "40   28754.33       118546.05    172795.670000  California   78239.91   \n",
       "32   63408.86       129219.61     46085.250000  California   97427.84   \n",
       "33   55493.95       103057.49    214634.810000     Florida   96778.92   \n",
       "42   23640.93        96189.63    148001.110000  California   71498.49   \n",
       "48     542.05        51743.15    223582.690222    New York   35673.41   \n",
       "\n",
       "             Tax  R&D Spend_SS  Administration_SS  Marketing Spend_SS  \\\n",
       "21  28241.187000      0.037527           1.217395            0.705469   \n",
       "11  24289.728000      0.559954          -1.218034            0.242354   \n",
       "40  18479.081500     -1.126199          -0.166760           -0.470473   \n",
       "32  13636.635000     -0.313702           0.252626           -1.644272   \n",
       "33  20723.561000     -0.499272          -0.775336           -0.082890   \n",
       "42  15784.461500     -1.246086          -1.045188           -0.700160   \n",
       "48  15549.962511     -1.787653          -2.791579            0.000000   \n",
       "\n",
       "    Profit_SS    Tax_SS  \n",
       "21  -0.013540  0.765456  \n",
       "11   0.815866  0.197976  \n",
       "40  -0.846135 -0.636506  \n",
       "32  -0.363091 -1.331942  \n",
       "33  -0.379427 -0.314170  \n",
       "42  -1.015847 -1.023487  \n",
       "48  -1.917721 -1.057165  "
      ]
     },
     "execution_count": 95,
     "metadata": {},
     "output_type": "execute_result"
    }
   ],
   "source": [
    "col_num = ['R&D Spend', 'Administration', 'Marketing Spend', 'Profit', 'Tax'] \n",
    "SS = StandardScaler() \n",
    "SS.fit(data_startup[col_num]) \n",
    "col_num2=[c+'_SS' for c in col_num] \n",
    "data_startup[col_num2]=pd.DataFrame(SS.transform(data_startup[col_num]))\n",
    "data_startup.sample(7)"
   ]
  },
  {
   "cell_type": "markdown",
   "id": "90ec992c",
   "metadata": {},
   "source": [
    "### Ketentuan dan Deadline\n",
    "\n",
    "1. Buat masing-masing repositori di github account\n",
    "2. Soal dikerjakan di repositori tsb.\n",
    "3. Jawaban yang dikumpulkan di **e-learning** merupakan link github dari repositori di atas.\n",
    "4. Deadline pengumpulan soal adalah hari rabu, 15 Mei 2024 pukul 23:59."
   ]
  }
 ],
 "metadata": {
  "kernelspec": {
   "display_name": "Python 3 (ipykernel)",
   "language": "python",
   "name": "python3"
  },
  "language_info": {
   "codemirror_mode": {
    "name": "ipython",
    "version": 3
   },
   "file_extension": ".py",
   "mimetype": "text/x-python",
   "name": "python",
   "nbconvert_exporter": "python",
   "pygments_lexer": "ipython3",
   "version": "3.11.7"
  }
 },
 "nbformat": 4,
 "nbformat_minor": 5
}
